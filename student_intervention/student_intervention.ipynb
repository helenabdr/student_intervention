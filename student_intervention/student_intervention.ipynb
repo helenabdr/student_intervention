{
 "cells": [
  {
   "cell_type": "markdown",
   "metadata": {},
   "source": [
    "# Machine Learning Engineer Nanodegree\n",
    "## Supervised Learning\n",
    "## Project: Building a Student Intervention System"
   ]
  },
  {
   "cell_type": "markdown",
   "metadata": {},
   "source": [
    "Welcome to the second project of the Machine Learning Engineer Nanodegree! In this notebook, some template code has already been provided for you, and it will be your job to implement the additional functionality necessary to successfully complete this project. Sections that begin with **'Implementation'** in the header indicate that the following block of code will require additional functionality which you must provide. Instructions will be provided for each section and the specifics of the implementation are marked in the code block with a `'TODO'` statement. Please be sure to read the instructions carefully!\n",
    "\n",
    "In addition to implementing code, there will be questions that you must answer which relate to the project and your implementation. Each section where you will answer a question is preceded by a **'Question X'** header. Carefully read each question and provide thorough answers in the following text boxes that begin with **'Answer:'**. Your project submission will be evaluated based on your answers to each of the questions and the implementation you provide.  \n",
    "\n",
    ">**Note:** Code and Markdown cells can be executed using the **Shift + Enter** keyboard shortcut. In addition, Markdown cells can be edited by typically double-clicking the cell to enter edit mode."
   ]
  },
  {
   "cell_type": "markdown",
   "metadata": {},
   "source": [
    "### Question 1 - Classification vs. Regression\n",
    "*Your goal for this project is to identify students who might need early intervention before they fail to graduate. Which type of supervised learning problem is this, classification or regression? Why?*"
   ]
  },
  {
   "cell_type": "markdown",
   "metadata": {},
   "source": [
    "**Answer:**"
   ]
  },
  {
   "cell_type": "markdown",
   "metadata": {},
   "source": [
    "## Exploring the Data\n",
    "Run the code cell below to load necessary Python libraries and load the student data. Note that the last column from this dataset, `'passed'`, will be our target label (whether the student graduated or didn't graduate). All other columns are features about each student."
   ]
  },
  {
   "cell_type": "code",
   "execution_count": 1,
   "metadata": {},
   "outputs": [
    {
     "name": "stdout",
     "output_type": "stream",
     "text": [
      "Student data read successfully!\n"
     ]
    }
   ],
   "source": [
    "# Import libraries\n",
    "import numpy as np\n",
    "import pandas as pd\n",
    "from time import time\n",
    "from sklearn.metrics import f1_score\n",
    "\n",
    "# Read student data\n",
    "student_data = pd.read_csv(\"student-data.csv\")\n",
    "print('Student data read successfully!')"
   ]
  },
  {
   "cell_type": "markdown",
   "metadata": {},
   "source": [
    "### Implementation: Data Exploration\n",
    "Let's begin by investigating the dataset to determine how many students we have information on, and learn about the graduation rate among these students. In the code cell below, you will need to compute the following:\n",
    "- The total number of students, `n_students`.\n",
    "- The total number of features for each student, `n_features`.\n",
    "- The number of those students who passed, `n_passed`.\n",
    "- The number of those students who failed, `n_failed`.\n",
    "- The graduation rate of the class, `grad_rate`, in percent (%).\n"
   ]
  },
  {
   "cell_type": "code",
   "execution_count": 3,
   "metadata": {},
   "outputs": [],
   "source": [
    "# Calculate number of students\n",
    "n_students = len(student_data.index)\n",
    "\n",
    "# Calculate number of features\n",
    "n_features = len(student_data.columns)\n",
    "\n",
    "# Calculate passing students\n",
    "n_passed = student_data[student_data['passed']=='yes'].shape[0]\n",
    "\n",
    "# Calculate failing students\n",
    "n_failed = student_data[student_data['passed']=='no'].shape[0]\n",
    "\n",
    "# Calculate graduation rate\n",
    "grad_rate = n_passed/n_students\n",
    "\n",
    "# # Print the results\n",
    "# print(\"Total number of students: {}\".format(n_students))\n",
    "# print(\"Number of features: {}\".format(n_features))\n",
    "# print( \"Number of students who passed: {}\".format(n_passed))\n",
    "# print(\"Number of students who failed: {}\".format(n_failed))\n",
    "# print(\"Graduation rate of the class: {:.2f}%\".format(grad_rate))"
   ]
  },
  {
   "cell_type": "markdown",
   "metadata": {},
   "source": [
    "## Preparing the Data\n",
    "In this section, we will prepare the data for modeling, training and testing.\n",
    "\n",
    "### Identify feature and target columns\n",
    "It is often the case that the data you obtain contains non-numeric features. This can be a problem, as most machine learning algorithms expect numeric data to perform computations with.\n",
    "\n",
    "Run the code cell below to separate the student data into feature and target columns to see if any features are non-numeric."
   ]
  },
  {
   "cell_type": "code",
   "execution_count": 4,
   "metadata": {},
   "outputs": [],
   "source": [
    "# Separate the data into feature data and target data (X_all and y_all, respectively)\n",
    "X_all = student_data.drop('passed', axis=1)\n",
    "y_all = student_data['passed']"
   ]
  },
  {
   "cell_type": "markdown",
   "metadata": {},
   "source": [
    "### Preprocess Feature Columns\n",
    "\n",
    "As you can see, there are several non-numeric columns that need to be converted! Many of them are simply `yes`/`no`, e.g. `internet`. These can be reasonably converted into `1`/`0` (binary) values.\n",
    "\n",
    "Other columns, like `Mjob` and `Fjob`, have more than two values, and are known as _categorical variables_. The recommended way to handle such a column is to create as many columns as possible values (e.g. `Fjob_teacher`, `Fjob_other`, `Fjob_services`, etc.), and assign a `1` to one of them and `0` to all others.\n",
    "\n",
    "These generated columns are sometimes called _dummy variables_, and we will use the [`pandas.get_dummies()`](http://pandas.pydata.org/pandas-docs/stable/generated/pandas.get_dummies.html?highlight=get_dummies#pandas.get_dummies) function to perform this transformation. Run the code cell below to perform the preprocessing routine discussed in this section."
   ]
  },
  {
   "cell_type": "code",
   "execution_count": 5,
   "metadata": {},
   "outputs": [],
   "source": [
    "def preprocess_features(X):\n",
    "    ''' Preprocesses the student data and converts non-numeric binary variables into\n",
    "        binary (0/1) variables. Converts categorical variables into dummy variables. '''\n",
    "    \n",
    "    # Initialize new output DataFrame\n",
    "    output = pd.DataFrame(index=X.index)\n",
    "\n",
    "    # Investigate each feature column for the data\n",
    "    for col, col_data in X.iteritems():\n",
    "        \n",
    "        # If data type is non-numeric, replace all yes/no values with 1/0\n",
    "        if col_data.dtype == object:\n",
    "            col_data = col_data.replace(['yes', 'no'], [1, 0])\n",
    "\n",
    "        # If data type is categorical, convert to dummy variables\n",
    "        if col_data.dtype == object:\n",
    "            # Example: 'school' => 'school_GP' and 'school_MS'\n",
    "            col_data = pd.get_dummies(col_data, prefix=col)  \n",
    "        \n",
    "        # Collect the revised columns\n",
    "        output = output.join(col_data)\n",
    "    \n",
    "    return output\n",
    "\n",
    "X_all = preprocess_features(X_all)\n",
    "\n",
    "from sklearn.preprocessing import LabelEncoder\n",
    "\n",
    "le = LabelEncoder().fit(['yes', 'no']) # Fit does nothing\n",
    "y_all = le.transform(y_all) "
   ]
  },
  {
   "cell_type": "markdown",
   "metadata": {},
   "source": [
    "### Implementation: Training and Testing Data Split\n",
    "So far, we have converted all _categorical_ features into numeric values. For the next step, we split the data (both features and corresponding labels) into training and test sets. In the following code cell below, you will need to implement the following:\n",
    "- Randomly shuffle and split the data (`X_all`, `y_all`) into training and testing subsets.\n",
    "  - Use 300 training points (approximately 75%) and 95 testing points (approximately 25%).\n",
    "  - Set a `random_state` for the function(s) you use, if provided.\n",
    "  - Store the results in `X_train`, `X_test`, `y_train`, and `y_test`."
   ]
  },
  {
   "cell_type": "code",
   "execution_count": 6,
   "metadata": {},
   "outputs": [
    {
     "name": "stdout",
     "output_type": "stream",
     "text": [
      "Training set has 300 samples.\n",
      "Testing set has 95 samples.\n"
     ]
    }
   ],
   "source": [
    "from sklearn.model_selection import train_test_split\n",
    "\n",
    "# Set the number of training points\n",
    "num_train = 300\n",
    "\n",
    "# Shuffle and split the dataset into the number of training and testing points above\n",
    "X_train, X_test, y_train, y_test = train_test_split(X_all, \n",
    "                                                    y_all,\n",
    "                                                    train_size=num_train,\n",
    "                                                    random_state=42)\n",
    "\n",
    "# Show the results of the split\n",
    "print(\"Training set has {} samples.\".format(X_train.shape[0]))\n",
    "print(\"Testing set has {} samples.\".format(X_test.shape[0]))"
   ]
  },
  {
   "cell_type": "markdown",
   "metadata": {},
   "source": [
    "## Training and Evaluating Models\n",
    "In this section, you will choose 3 supervised learning models that are appropriate for this problem and available in `scikit-learn`. You will first discuss the reasoning behind choosing these three models by considering what you know about the data and each model's strengths and weaknesses. You will then fit the model to varying sizes of training data (100 data points, 200 data points, and 300 data points) and measure the F<sub>1</sub> score. You will need to produce three tables (one for each model) that shows the training set size, training time, prediction time, F<sub>1</sub> score on the training set, and F<sub>1</sub> score on the testing set.\n",
    "\n",
    "**The following supervised learning models are currently available in** [`scikit-learn`](http://scikit-learn.org/stable/supervised_learning.html) **that you may choose from:**\n",
    "- Gaussian Naive Bayes (GaussianNB)\n",
    "- Decision Trees\n",
    "- Ensemble Methods (Bagging, AdaBoost, Random Forest, Gradient Boosting)\n",
    "- K-Nearest Neighbors (KNeighbors)\n",
    "- Stochastic Gradient Descent (SGDC)\n",
    "- Support Vector Machines (SVM)\n",
    "- Logistic Regression"
   ]
  },
  {
   "cell_type": "markdown",
   "metadata": {},
   "source": [
    "### Question 2 - Model Application\n",
    "*List three supervised learning models that are appropriate for this problem. For each model chosen*\n",
    "- Describe one real-world application in industry where the model can be applied. *(You may need to do a small bit of research for this — give references!)* \n",
    "- What are the strengths of the model; when does it perform well? \n",
    "- What are the weaknesses of the model; when does it perform poorly?\n",
    "- What makes this model a good candidate for the problem, given what you know about the data?"
   ]
  },
  {
   "cell_type": "markdown",
   "metadata": {},
   "source": [
    "**Answer: **"
   ]
  },
  {
   "cell_type": "markdown",
   "metadata": {},
   "source": [
    "### Setup\n",
    "Run the code cell below to initialize three helper functions which you can use for training and testing the three supervised learning models you've chosen above. The functions are as follows:\n",
    "- `train_classifier` - takes as input a classifier and training data and fits the classifier to the data.\n",
    "- `predict_labels` - takes as input a fit classifier, features, and a target labeling and makes predictions using the F<sub>1</sub> score.\n",
    "- `train_predict` - takes as input a classifier, and the training and testing data, and performs `train_clasifier` and `predict_labels`.\n",
    " - This function will report the F<sub>1</sub> score for both the training and testing data separately."
   ]
  },
  {
   "cell_type": "code",
   "execution_count": 7,
   "metadata": {},
   "outputs": [],
   "source": [
    "# def train_classifier(clf, X_train, y_train):\n",
    "#     ''' Fits a classifier to the training data. '''\n",
    "    \n",
    "#     # Start the clock, train the classifier, then stop the clock\n",
    "#     start = time()\n",
    "#     clf.fit(X_train, y_train)\n",
    "#     end = time()\n",
    "    \n",
    "#     # Print the results\n",
    "#     print(\"Trained model in {:.4f} seconds\".format(end - start))\n",
    "\n",
    "    \n",
    "# def predict_labels(clf, features, target):\n",
    "#     ''' Makes predictions using a fit classifier based on F1 score. '''\n",
    "    \n",
    "#     # Start the clock, make predictions, then stop the clock\n",
    "#     start = time()\n",
    "#     y_pred = clf.predict(features)\n",
    "#     end = time()\n",
    "    \n",
    "#     # Print and return results\n",
    "#     print(\"Made predictions in {:.4f} seconds.\".format(end - start))\n",
    "#     return f1_score(target.values, y_pred, pos_label='yes')\n",
    "\n",
    "\n",
    "# def train_predict(clf, X_train, y_train, X_test, y_test):\n",
    "#     ''' Train and predict using a classifer based on F1 score. '''\n",
    "    \n",
    "#     # Indicate the classifier and the training set size\n",
    "#     print(\"Training a {} using a training set size of {}. . .\".format(clf.__class__.__name__, len(X_train)))\n",
    "    \n",
    "#     # Train the classifier\n",
    "#     train_classifier(clf, X_train, y_train)\n",
    "    \n",
    "#     # Print the results of prediction for both training and testing\n",
    "#     print(\"F1 score for training set: {:.4f}.\".format(predict_labels(clf, X_train, y_train)))\n",
    "#     print(\"F1 score for test set: {:.4f}.\".format(predict_labels(clf, X_test, y_test)))"
   ]
  },
  {
   "cell_type": "markdown",
   "metadata": {},
   "source": [
    "### Implementation: Model Performance Metrics\n",
    "With the predefined functions above, you will now import the three supervised learning models of your choice and run the `train_predict` function for each one. Remember that you will need to train and predict on each classifier for three different training set sizes: 100, 200, and 300. Hence, you should expect to have 9 different outputs below — 3 for each model using the varying training set sizes. In the following code cell, you will need to implement the following:\n",
    "- Import the three supervised learning models you've discussed in the previous section.\n",
    "- Initialize the three models and store them in `clf_A`, `clf_B`, and `clf_C`.\n",
    " - Use a `random_state` for each model you use, if provided.\n",
    " - **Note:** Use the default settings for each model — you will tune one specific model in a later section.\n",
    "- Create the different training set sizes to be used to train each model.\n",
    " - *Do not reshuffle and resplit the data! The new training points should be drawn from `X_train` and `y_train`.*\n",
    "- Fit each model with each training set size and make predictions on the test set (9 in total).  \n",
    "**Note:** Three tables are provided after the following code cell which can be used to store your results."
   ]
  },
  {
   "cell_type": "code",
   "execution_count": 8,
   "metadata": {},
   "outputs": [],
   "source": [
    "from sklearn.tree import DecisionTreeClassifier\n",
    "from sklearn.naive_bayes import GaussianNB\n",
    "from sklearn.ensemble import RandomForestClassifier\n",
    "from sklearn.model_selection import cross_validate\n",
    "\n",
    "# Initialize the three models\n",
    "tree = DecisionTreeClassifier(min_samples_split=0.05, random_state=42)\n",
    "gauss = GaussianNB()\n",
    "random_forest = RandomForestClassifier(random_state=42)\n",
    "\n",
    "# Set up the training set sizes\n",
    "X_train_100 = X_train[:100]\n",
    "y_train_100 = y_train[:100]\n",
    "\n",
    "X_train_200 = X_train[:200]\n",
    "y_train_200 = y_train[:200]\n",
    "\n",
    "X_train_300 = X_train[:300]\n",
    "y_train_300 = y_train[:300]\n",
    "\n",
    "model_set = [('DecisionTreeClassifier',tree),\n",
    "             ('GaussianNB',gauss),\n",
    "             ('RandomForestClassifier',random_forest)]\n",
    "\n",
    "train_set = [(X_train_100, y_train_100),\n",
    "             (X_train_200, y_train_200),\n",
    "             (X_train_300, y_train_300)]\n",
    "\n",
    "\n",
    "\n",
    "\n",
    "answer_df = pd.DataFrame(columns=['Training Set Size',\n",
    "                                  'Training Time',\n",
    "                                  'Prediction Time:',\n",
    "                                  'F1 Score(train)',\n",
    "                                  'F1 Score(test)'])\n",
    "\n",
    "# Iterate over the models\n",
    "for name, model in model_set:\n",
    "    \n",
    "    # Iterate over the training sets\n",
    "    for X, y in train_set:\n",
    "        \n",
    "        size = len(y)\n",
    "        train_size = int(0.7 * size)\n",
    "\n",
    "        # Spliting data\n",
    "        X_train_set = X[:train_size]\n",
    "        y_train_set = y[:train_size]\n",
    "        X_test_set = X[train_size:]\n",
    "        y_test_set = y[train_size:]\n",
    "        \n",
    "        # Train the model\n",
    "        start = time()\n",
    "        model.fit(X_train_set, y_train_set)\n",
    "        end = time()\n",
    "        train_time = end - start\n",
    "        \n",
    "        # Make predictions \n",
    "        start = time()\n",
    "        predicted = model.predict(X_test_set)\n",
    "        end = time()\n",
    "        predict_time = end - start\n",
    "        \n",
    "        # Calculate the f1 score\n",
    "        f1_test_set = f1_score(y_test_set, predicted)\n",
    "        f1_train_set = f1_score(y_train_set, model.predict(X_train_set))\n",
    "        \n",
    "        answer = {'Training Set Size': size,\n",
    "                 'Training Time': train_time,\n",
    "                 'Prediction Time:': predict_time,\n",
    "                 'F1 Score(train)': f1_train_set,\n",
    "                 'F1 Score(test)': f1_test_set\n",
    "                 }\n",
    "        \n",
    "        answer_df = answer_df.append(answer, ignore_index=True)\n"
   ]
  },
  {
   "cell_type": "markdown",
   "metadata": {},
   "source": [
    "### Tabular Results"
   ]
  },
  {
   "cell_type": "code",
   "execution_count": 9,
   "metadata": {},
   "outputs": [
    {
     "name": "stdout",
     "output_type": "stream",
     "text": [
      "DecisionTreeClassifier\n"
     ]
    },
    {
     "data": {
      "text/html": [
       "<div>\n",
       "<style scoped>\n",
       "    .dataframe tbody tr th:only-of-type {\n",
       "        vertical-align: middle;\n",
       "    }\n",
       "\n",
       "    .dataframe tbody tr th {\n",
       "        vertical-align: top;\n",
       "    }\n",
       "\n",
       "    .dataframe thead th {\n",
       "        text-align: right;\n",
       "    }\n",
       "</style>\n",
       "<table border=\"1\" class=\"dataframe\">\n",
       "  <thead>\n",
       "    <tr style=\"text-align: right;\">\n",
       "      <th></th>\n",
       "      <th>Training Set Size</th>\n",
       "      <th>Training Time</th>\n",
       "      <th>Prediction Time:</th>\n",
       "      <th>F1 Score(train)</th>\n",
       "      <th>F1 Score(test)</th>\n",
       "    </tr>\n",
       "  </thead>\n",
       "  <tbody>\n",
       "    <tr>\n",
       "      <th>0</th>\n",
       "      <td>100.0</td>\n",
       "      <td>0.001878</td>\n",
       "      <td>0.000691</td>\n",
       "      <td>0.966292</td>\n",
       "      <td>0.717949</td>\n",
       "    </tr>\n",
       "    <tr>\n",
       "      <th>1</th>\n",
       "      <td>200.0</td>\n",
       "      <td>0.001712</td>\n",
       "      <td>0.000765</td>\n",
       "      <td>0.952880</td>\n",
       "      <td>0.795455</td>\n",
       "    </tr>\n",
       "    <tr>\n",
       "      <th>2</th>\n",
       "      <td>300.0</td>\n",
       "      <td>0.001943</td>\n",
       "      <td>0.000802</td>\n",
       "      <td>0.916667</td>\n",
       "      <td>0.739496</td>\n",
       "    </tr>\n",
       "  </tbody>\n",
       "</table>\n",
       "</div>"
      ],
      "text/plain": [
       "   Training Set Size  Training Time  Prediction Time:  F1 Score(train)  \\\n",
       "0              100.0       0.001878          0.000691         0.966292   \n",
       "1              200.0       0.001712          0.000765         0.952880   \n",
       "2              300.0       0.001943          0.000802         0.916667   \n",
       "\n",
       "   F1 Score(test)  \n",
       "0        0.717949  \n",
       "1        0.795455  \n",
       "2        0.739496  "
      ]
     },
     "execution_count": 9,
     "metadata": {},
     "output_type": "execute_result"
    }
   ],
   "source": [
    "print(model_set[0][0])\n",
    "answer_df[0:3]"
   ]
  },
  {
   "cell_type": "code",
   "execution_count": 10,
   "metadata": {},
   "outputs": [
    {
     "name": "stdout",
     "output_type": "stream",
     "text": [
      "GaussianNB\n"
     ]
    },
    {
     "data": {
      "text/html": [
       "<div>\n",
       "<style scoped>\n",
       "    .dataframe tbody tr th:only-of-type {\n",
       "        vertical-align: middle;\n",
       "    }\n",
       "\n",
       "    .dataframe tbody tr th {\n",
       "        vertical-align: top;\n",
       "    }\n",
       "\n",
       "    .dataframe thead th {\n",
       "        text-align: right;\n",
       "    }\n",
       "</style>\n",
       "<table border=\"1\" class=\"dataframe\">\n",
       "  <thead>\n",
       "    <tr style=\"text-align: right;\">\n",
       "      <th></th>\n",
       "      <th>Training Set Size</th>\n",
       "      <th>Training Time</th>\n",
       "      <th>Prediction Time:</th>\n",
       "      <th>F1 Score(train)</th>\n",
       "      <th>F1 Score(test)</th>\n",
       "    </tr>\n",
       "  </thead>\n",
       "  <tbody>\n",
       "    <tr>\n",
       "      <th>3</th>\n",
       "      <td>100.0</td>\n",
       "      <td>0.001102</td>\n",
       "      <td>0.000747</td>\n",
       "      <td>0.862745</td>\n",
       "      <td>0.700000</td>\n",
       "    </tr>\n",
       "    <tr>\n",
       "      <th>4</th>\n",
       "      <td>200.0</td>\n",
       "      <td>0.001194</td>\n",
       "      <td>0.000755</td>\n",
       "      <td>0.843750</td>\n",
       "      <td>0.785714</td>\n",
       "    </tr>\n",
       "    <tr>\n",
       "      <th>5</th>\n",
       "      <td>300.0</td>\n",
       "      <td>0.001221</td>\n",
       "      <td>0.000770</td>\n",
       "      <td>0.826389</td>\n",
       "      <td>0.715447</td>\n",
       "    </tr>\n",
       "  </tbody>\n",
       "</table>\n",
       "</div>"
      ],
      "text/plain": [
       "   Training Set Size  Training Time  Prediction Time:  F1 Score(train)  \\\n",
       "3              100.0       0.001102          0.000747         0.862745   \n",
       "4              200.0       0.001194          0.000755         0.843750   \n",
       "5              300.0       0.001221          0.000770         0.826389   \n",
       "\n",
       "   F1 Score(test)  \n",
       "3        0.700000  \n",
       "4        0.785714  \n",
       "5        0.715447  "
      ]
     },
     "execution_count": 10,
     "metadata": {},
     "output_type": "execute_result"
    }
   ],
   "source": [
    "print(model_set[1][0])\n",
    "answer_df[3:6]"
   ]
  },
  {
   "cell_type": "code",
   "execution_count": 11,
   "metadata": {},
   "outputs": [
    {
     "name": "stdout",
     "output_type": "stream",
     "text": [
      "RandomForestClassifier\n"
     ]
    },
    {
     "data": {
      "text/html": [
       "<div>\n",
       "<style scoped>\n",
       "    .dataframe tbody tr th:only-of-type {\n",
       "        vertical-align: middle;\n",
       "    }\n",
       "\n",
       "    .dataframe tbody tr th {\n",
       "        vertical-align: top;\n",
       "    }\n",
       "\n",
       "    .dataframe thead th {\n",
       "        text-align: right;\n",
       "    }\n",
       "</style>\n",
       "<table border=\"1\" class=\"dataframe\">\n",
       "  <thead>\n",
       "    <tr style=\"text-align: right;\">\n",
       "      <th></th>\n",
       "      <th>Training Set Size</th>\n",
       "      <th>Training Time</th>\n",
       "      <th>Prediction Time:</th>\n",
       "      <th>F1 Score(train)</th>\n",
       "      <th>F1 Score(test)</th>\n",
       "    </tr>\n",
       "  </thead>\n",
       "  <tbody>\n",
       "    <tr>\n",
       "      <th>6</th>\n",
       "      <td>100.0</td>\n",
       "      <td>0.130879</td>\n",
       "      <td>0.012013</td>\n",
       "      <td>1.0</td>\n",
       "      <td>0.75</td>\n",
       "    </tr>\n",
       "    <tr>\n",
       "      <th>7</th>\n",
       "      <td>200.0</td>\n",
       "      <td>0.131946</td>\n",
       "      <td>0.009448</td>\n",
       "      <td>1.0</td>\n",
       "      <td>0.84</td>\n",
       "    </tr>\n",
       "    <tr>\n",
       "      <th>8</th>\n",
       "      <td>300.0</td>\n",
       "      <td>0.132595</td>\n",
       "      <td>0.010152</td>\n",
       "      <td>1.0</td>\n",
       "      <td>0.80</td>\n",
       "    </tr>\n",
       "  </tbody>\n",
       "</table>\n",
       "</div>"
      ],
      "text/plain": [
       "   Training Set Size  Training Time  Prediction Time:  F1 Score(train)  \\\n",
       "6              100.0       0.130879          0.012013              1.0   \n",
       "7              200.0       0.131946          0.009448              1.0   \n",
       "8              300.0       0.132595          0.010152              1.0   \n",
       "\n",
       "   F1 Score(test)  \n",
       "6            0.75  \n",
       "7            0.84  \n",
       "8            0.80  "
      ]
     },
     "execution_count": 11,
     "metadata": {},
     "output_type": "execute_result"
    }
   ],
   "source": [
    "print(model_set[2][0])\n",
    "answer_df[6:9]"
   ]
  },
  {
   "cell_type": "markdown",
   "metadata": {},
   "source": [
    "## Cross Validation Tests"
   ]
  },
  {
   "cell_type": "code",
   "execution_count": 16,
   "metadata": {},
   "outputs": [],
   "source": [
    "import matplotlib.pyplot as plt\n",
    "\n",
    "def show_results(cv_results):\n",
    "    \"\"\"\n",
    "    Show the results of cross validation tests\n",
    "    \n",
    "    Parameters\n",
    "    ----------\n",
    "        cv_results: dict\n",
    "            It's the returning dictionarie from `cross_validate` function\n",
    "    \"\"\"\n",
    "    fig = plt.figure(facecolor='w',\n",
    "                     figsize=(15,3), \n",
    "                     tight_layout=True)\n",
    "    # Test score\n",
    "    ax1 = fig.add_subplot(131)\n",
    "    try:\n",
    "        ax1.hist(cv_results['test_score'], 10)\n",
    "    except:\n",
    "        ax1.hist(cv_results['mean_test_score']\n",
    "    ax1.set_title('Test Score')\n",
    "    ax1.set_xlim(left=0, right=1)\n",
    "    \n",
    "    # Score time\n",
    "    ax2 = fig.add_subplot(132)\n",
    "    ax2.hist(cv_results['score_time'], 10)\n",
    "    ax2.set_title('Score time')\n",
    "    ax2.set_xlabel('Time [ms]')\n",
    "    ax2.set_xlim(left=0)\n",
    "    \n",
    "    # Fit time\n",
    "    ax3 = fig.add_subplot(133)\n",
    "    ax3.hist(cv_results['fit_time'], 10)\n",
    "    ax3.set_title('Fit time')\n",
    "    ax3.set_xlabel('Time [ms]')\n",
    "    ax3.set_xlim(left=0)\n"
   ]
  },
  {
   "cell_type": "code",
   "execution_count": 41,
   "metadata": {},
   "outputs": [
    {
     "data": {
      "image/png": "[encoded data removed]",
      "text/plain": [
       "<Figure size 1080x216 with 3 Axes>"
      ]
     },
     "metadata": {},
     "output_type": "display_data"
    },
    {
     "data": {
      "image/png": "[encoded data removed]",
      "text/plain": [
       "<Figure size 1080x216 with 3 Axes>"
      ]
     },
     "metadata": {},
     "output_type": "display_data"
    },
    {
     "data": {
      "image/png": "[encoded data removed]",
      "text/plain": [
       "<Figure size 1080x216 with 3 Axes>"
      ]
     },
     "metadata": {},
     "output_type": "display_data"
    }
   ],
   "source": [
    "# Cross validation variables\n",
    "cv_spliter = 25\n",
    "scoring= 'f1'\n",
    "\n",
    "# Cross validating\n",
    "tree_cv_results = cross_validate(tree, X_train, y_train, scoring=scoring, cv=cv_spliter)\n",
    "gauss_cv_results = cross_validate(gauss, X_train, y_train, scoring=scoring, cv=cv_spliter)\n",
    "random_forest_cv_results = cross_validate(random_forest, X_train, y_train, scoring=scoring, cv=cv_spliter)\n",
    "\n",
    "# Show Results\n",
    "show_results(gauss_cv_results)\n",
    "show_results(tree_cv_results)\n",
    "show_results(random_forest_cv_results)"
   ]
  },
  {
   "cell_type": "markdown",
   "metadata": {},
   "source": [
    "### Question 3 - Choosing the Best Model\n",
    "*Based on the experiments you performed earlier, in one to two paragraphs, explain to the board of supervisors what single model you chose as the best model. Which model is generally the most appropriate based on the available data, limited resources, cost, and performance?*"
   ]
  },
  {
   "cell_type": "markdown",
   "metadata": {},
   "source": [
    "## Choosing the Best Model\n",
    "In this final section, you will choose from the three supervised learning models the *best* model to use on the student data. You will then perform a grid search optimization for the model over the entire training set (`X_train` and `y_train`) by tuning at least one parameter to improve upon the untuned model's F<sub>1</sub> score. "
   ]
  },
  {
   "cell_type": "code",
   "execution_count": 32,
   "metadata": {},
   "outputs": [],
   "source": [
    "from sklearn.model_selection import GridSearchCV\n",
    "\n",
    "param_tree = {'criterion':('gini', 'entropy'),\n",
    "              'max_depth':[5,10,15],\n",
    "              'min_samples_split':[5, 10, 15, 20, 25, 30]}\n",
    "#param_gauss = {}\n",
    "param_random_forest = {'n_estimators': [10, 50, 100, 150],\n",
    "                      'criterion': ('gini', 'entropy'),\n",
    "                      'random_state': [42]} \n",
    "\n",
    "search_tree = GridSearchCV(tree, param_grid=param_tree, cv=cv_spliter)\n",
    "#search_gauss = GridSearchCV(gauss, param_grid=param_gauss)\n",
    "search_random_forest = GridSearchCV(random_forest, param_grid=param_random_forest, cv=cv_spliter)\n",
    "\n",
    "best_tree = search_tree.fit(X_train, y_train).best_estimator_\n",
    "best_gauss = search_gauss.fit(X_train, y_train).best_estimator_\n",
    "best_random_forest = search_random_forest.fit(X_train, y_train).best_estimator_"
   ]
  },
  {
   "cell_type": "code",
   "execution_count": 42,
   "metadata": {},
   "outputs": [],
   "source": [
    "a = search_tree.fit(X_train, y_train)"
   ]
  },
  {
   "cell_type": "code",
   "execution_count": 47,
   "metadata": {},
   "outputs": [
    {
     "data": {
      "text/plain": [
       "{'fit_time': array([0.00210667, 0.00203466, 0.00203109, 0.00203657, 0.00202155,\n",
       "        0.00203276, 0.00203919, 0.00203753, 0.00206828, 0.00210953,\n",
       "        0.00208592, 0.00204539, 0.00230336, 0.00205684, 0.00206399,\n",
       "        0.00208664, 0.00205255, 0.00210714, 0.00202894, 0.00421476,\n",
       "        0.00217366, 0.0024662 , 0.00232553, 0.00214005, 0.00215864]),\n",
       " 'score_time': array([0.0014925 , 0.00149345, 0.00147915, 0.00148296, 0.00147247,\n",
       "        0.00145483, 0.0014596 , 0.00146103, 0.00174546, 0.00146294,\n",
       "        0.00147176, 0.00145555, 0.00146961, 0.00154209, 0.00147367,\n",
       "        0.00152826, 0.00148964, 0.00150061, 0.00180101, 0.00183868,\n",
       "        0.00154924, 0.00457692, 0.00160503, 0.0015564 , 0.00165296]),\n",
       " 'test_score': array([0.88888889, 0.66666667, 0.77777778, 0.8       , 0.88888889,\n",
       "        0.77777778, 0.77777778, 0.70588235, 0.70588235, 0.5       ,\n",
       "        0.75      , 0.61538462, 0.94117647, 0.70588235, 0.8       ,\n",
       "        0.73684211, 0.82352941, 0.82352941, 0.70588235, 0.73684211,\n",
       "        0.84210526, 0.8       , 0.9       , 0.58823529, 0.77777778])}"
      ]
     },
     "execution_count": 47,
     "metadata": {},
     "output_type": "execute_result"
    }
   ],
   "source": [
    "gauss_cv_results"
   ]
  },
  {
   "cell_type": "code",
   "execution_count": 50,
   "metadata": {},
   "outputs": [
    {
     "data": {
      "text/plain": [
       "{'mean_fit_time': array([0.00328469, 0.00268033, 0.0029557 , 0.00258528, 0.00251742,\n",
       "        0.00251311, 0.00318221, 0.00311563, 0.00324905, 0.00323016,\n",
       "        0.00303993, 0.00322946, 0.00347778, 0.00311194, 0.00305776,\n",
       "        0.00314859, 0.00301623, 0.00288975, 0.00292104, 0.00301312,\n",
       "        0.00284216, 0.00278247, 0.00273725, 0.00299644, 0.00359159,\n",
       "        0.00345819, 0.00332453, 0.00318708, 0.00309099, 0.00301851,\n",
       "        0.0037157 , 0.00357133, 0.00334146, 0.00321853, 0.00296812,\n",
       "        0.0029132 ]),\n",
       " 'std_fit_time': array([1.06112351e-03, 1.42509393e-04, 6.13398903e-04, 5.91651768e-05,\n",
       "        2.62208136e-05, 2.64732913e-05, 1.67149329e-04, 1.10746153e-04,\n",
       "        1.66014048e-04, 3.09790041e-04, 2.14346741e-04, 7.50598583e-04,\n",
       "        5.34719157e-04, 9.92902542e-05, 2.06906590e-04, 2.00418823e-04,\n",
       "        1.71383195e-04, 8.64376257e-05, 1.29440282e-04, 1.83949468e-04,\n",
       "        6.09721410e-05, 4.53909464e-05, 4.45941251e-05, 5.11475276e-04,\n",
       "        9.12908763e-05, 9.04078906e-05, 1.05097526e-04, 7.69680167e-05,\n",
       "        1.06762170e-04, 7.82361500e-05, 1.27210632e-04, 1.90166954e-04,\n",
       "        7.32080410e-05, 1.72929150e-04, 6.42402835e-05, 7.50638224e-05]),\n",
       " 'mean_score_time': array([0.00113319, 0.00090402, 0.00097025, 0.00084457, 0.00085192,\n",
       "        0.00085194, 0.00086187, 0.0008815 , 0.00094728, 0.00094342,\n",
       "        0.00091684, 0.00100306, 0.0009526 , 0.00085666, 0.00086207,\n",
       "        0.00092866, 0.00091068, 0.00088191, 0.00090787, 0.00093223,\n",
       "        0.00088393, 0.00088122, 0.00088624, 0.00094638, 0.00091829,\n",
       "        0.00092139, 0.0009175 , 0.00088496, 0.00088476, 0.00087703,\n",
       "        0.00088752, 0.00090124, 0.00087873, 0.00087504, 0.00084772,\n",
       "        0.00084722]),\n",
       " 'std_score_time': array([5.52195010e-04, 2.93482231e-04, 2.52331079e-04, 1.56203294e-05,\n",
       "        4.19543000e-05, 5.28302226e-05, 6.61471792e-05, 4.89913700e-05,\n",
       "        9.77411265e-05, 7.16794901e-05, 6.17201971e-05, 2.11957923e-04,\n",
       "        2.14445287e-04, 1.98191008e-05, 5.73789468e-05, 8.45029690e-05,\n",
       "        1.01771008e-04, 3.49210220e-05, 1.01659900e-04, 8.34999044e-05,\n",
       "        2.84073407e-05, 2.19617881e-05, 5.27505481e-05, 1.77869502e-04,\n",
       "        7.82109755e-05, 6.35429125e-05, 8.67073671e-05, 3.92199650e-05,\n",
       "        4.02138847e-05, 1.65485331e-05, 2.70461364e-05, 5.64247242e-05,\n",
       "        1.78671946e-05, 4.34799146e-05, 1.29731259e-05, 9.24501543e-06]),\n",
       " 'param_criterion': masked_array(data=['gini', 'gini', 'gini', 'gini', 'gini', 'gini', 'gini',\n",
       "                    'gini', 'gini', 'gini', 'gini', 'gini', 'gini', 'gini',\n",
       "                    'gini', 'gini', 'gini', 'gini', 'entropy', 'entropy',\n",
       "                    'entropy', 'entropy', 'entropy', 'entropy', 'entropy',\n",
       "                    'entropy', 'entropy', 'entropy', 'entropy', 'entropy',\n",
       "                    'entropy', 'entropy', 'entropy', 'entropy', 'entropy',\n",
       "                    'entropy'],\n",
       "              mask=[False, False, False, False, False, False, False, False,\n",
       "                    False, False, False, False, False, False, False, False,\n",
       "                    False, False, False, False, False, False, False, False,\n",
       "                    False, False, False, False, False, False, False, False,\n",
       "                    False, False, False, False],\n",
       "        fill_value='?',\n",
       "             dtype=object),\n",
       " 'param_max_depth': masked_array(data=[5, 5, 5, 5, 5, 5, 10, 10, 10, 10, 10, 10, 15, 15, 15,\n",
       "                    15, 15, 15, 5, 5, 5, 5, 5, 5, 10, 10, 10, 10, 10, 10,\n",
       "                    15, 15, 15, 15, 15, 15],\n",
       "              mask=[False, False, False, False, False, False, False, False,\n",
       "                    False, False, False, False, False, False, False, False,\n",
       "                    False, False, False, False, False, False, False, False,\n",
       "                    False, False, False, False, False, False, False, False,\n",
       "                    False, False, False, False],\n",
       "        fill_value='?',\n",
       "             dtype=object),\n",
       " 'param_min_samples_split': masked_array(data=[5, 10, 15, 20, 25, 30, 5, 10, 15, 20, 25, 30, 5, 10,\n",
       "                    15, 20, 25, 30, 5, 10, 15, 20, 25, 30, 5, 10, 15, 20,\n",
       "                    25, 30, 5, 10, 15, 20, 25, 30],\n",
       "              mask=[False, False, False, False, False, False, False, False,\n",
       "                    False, False, False, False, False, False, False, False,\n",
       "                    False, False, False, False, False, False, False, False,\n",
       "                    False, False, False, False, False, False, False, False,\n",
       "                    False, False, False, False],\n",
       "        fill_value='?',\n",
       "             dtype=object),\n",
       " 'params': [{'criterion': 'gini', 'max_depth': 5, 'min_samples_split': 5},\n",
       "  {'criterion': 'gini', 'max_depth': 5, 'min_samples_split': 10},\n",
       "  {'criterion': 'gini', 'max_depth': 5, 'min_samples_split': 15},\n",
       "  {'criterion': 'gini', 'max_depth': 5, 'min_samples_split': 20},\n",
       "  {'criterion': 'gini', 'max_depth': 5, 'min_samples_split': 25},\n",
       "  {'criterion': 'gini', 'max_depth': 5, 'min_samples_split': 30},\n",
       "  {'criterion': 'gini', 'max_depth': 10, 'min_samples_split': 5},\n",
       "  {'criterion': 'gini', 'max_depth': 10, 'min_samples_split': 10},\n",
       "  {'criterion': 'gini', 'max_depth': 10, 'min_samples_split': 15},\n",
       "  {'criterion': 'gini', 'max_depth': 10, 'min_samples_split': 20},\n",
       "  {'criterion': 'gini', 'max_depth': 10, 'min_samples_split': 25},\n",
       "  {'criterion': 'gini', 'max_depth': 10, 'min_samples_split': 30},\n",
       "  {'criterion': 'gini', 'max_depth': 15, 'min_samples_split': 5},\n",
       "  {'criterion': 'gini', 'max_depth': 15, 'min_samples_split': 10},\n",
       "  {'criterion': 'gini', 'max_depth': 15, 'min_samples_split': 15},\n",
       "  {'criterion': 'gini', 'max_depth': 15, 'min_samples_split': 20},\n",
       "  {'criterion': 'gini', 'max_depth': 15, 'min_samples_split': 25},\n",
       "  {'criterion': 'gini', 'max_depth': 15, 'min_samples_split': 30},\n",
       "  {'criterion': 'entropy', 'max_depth': 5, 'min_samples_split': 5},\n",
       "  {'criterion': 'entropy', 'max_depth': 5, 'min_samples_split': 10},\n",
       "  {'criterion': 'entropy', 'max_depth': 5, 'min_samples_split': 15},\n",
       "  {'criterion': 'entropy', 'max_depth': 5, 'min_samples_split': 20},\n",
       "  {'criterion': 'entropy', 'max_depth': 5, 'min_samples_split': 25},\n",
       "  {'criterion': 'entropy', 'max_depth': 5, 'min_samples_split': 30},\n",
       "  {'criterion': 'entropy', 'max_depth': 10, 'min_samples_split': 5},\n",
       "  {'criterion': 'entropy', 'max_depth': 10, 'min_samples_split': 10},\n",
       "  {'criterion': 'entropy', 'max_depth': 10, 'min_samples_split': 15},\n",
       "  {'criterion': 'entropy', 'max_depth': 10, 'min_samples_split': 20},\n",
       "  {'criterion': 'entropy', 'max_depth': 10, 'min_samples_split': 25},\n",
       "  {'criterion': 'entropy', 'max_depth': 10, 'min_samples_split': 30},\n",
       "  {'criterion': 'entropy', 'max_depth': 15, 'min_samples_split': 5},\n",
       "  {'criterion': 'entropy', 'max_depth': 15, 'min_samples_split': 10},\n",
       "  {'criterion': 'entropy', 'max_depth': 15, 'min_samples_split': 15},\n",
       "  {'criterion': 'entropy', 'max_depth': 15, 'min_samples_split': 20},\n",
       "  {'criterion': 'entropy', 'max_depth': 15, 'min_samples_split': 25},\n",
       "  {'criterion': 'entropy', 'max_depth': 15, 'min_samples_split': 30}],\n",
       " 'split0_test_score': array([0.75      , 0.75      , 0.75      , 0.75      , 0.75      ,\n",
       "        0.75      , 0.91666667, 0.91666667, 0.91666667, 0.83333333,\n",
       "        0.83333333, 0.83333333, 0.91666667, 0.91666667, 0.91666667,\n",
       "        0.83333333, 0.83333333, 0.83333333, 0.66666667, 0.66666667,\n",
       "        0.66666667, 0.66666667, 0.66666667, 0.66666667, 0.58333333,\n",
       "        0.66666667, 0.66666667, 0.58333333, 0.66666667, 0.66666667,\n",
       "        0.66666667, 0.66666667, 0.66666667, 0.66666667, 0.66666667,\n",
       "        0.58333333]),\n",
       " 'split1_test_score': array([0.58333333, 0.58333333, 0.58333333, 0.58333333, 0.66666667,\n",
       "        0.66666667, 0.66666667, 0.58333333, 0.66666667, 0.58333333,\n",
       "        0.66666667, 0.66666667, 0.66666667, 0.58333333, 0.58333333,\n",
       "        0.5       , 0.66666667, 0.66666667, 0.5       , 0.5       ,\n",
       "        0.58333333, 0.58333333, 0.66666667, 0.66666667, 0.5       ,\n",
       "        0.5       , 0.41666667, 0.58333333, 0.66666667, 0.66666667,\n",
       "        0.5       , 0.58333333, 0.41666667, 0.58333333, 0.66666667,\n",
       "        0.66666667]),\n",
       " 'split2_test_score': array([0.58333333, 0.58333333, 0.58333333, 0.58333333, 0.58333333,\n",
       "        0.58333333, 0.66666667, 0.58333333, 0.58333333, 0.58333333,\n",
       "        0.58333333, 0.58333333, 0.58333333, 0.58333333, 0.58333333,\n",
       "        0.58333333, 0.58333333, 0.58333333, 0.58333333, 0.58333333,\n",
       "        0.58333333, 0.58333333, 0.58333333, 0.58333333, 0.5       ,\n",
       "        0.5       , 0.66666667, 0.58333333, 0.58333333, 0.58333333,\n",
       "        0.5       , 0.5       , 0.66666667, 0.58333333, 0.58333333,\n",
       "        0.58333333]),\n",
       " 'split3_test_score': array([0.75      , 0.75      , 0.75      , 0.91666667, 0.83333333,\n",
       "        0.83333333, 0.83333333, 0.66666667, 0.66666667, 0.83333333,\n",
       "        0.83333333, 0.83333333, 0.83333333, 0.66666667, 0.66666667,\n",
       "        0.83333333, 0.83333333, 0.83333333, 0.5       , 0.5       ,\n",
       "        0.5       , 0.5       , 0.58333333, 0.58333333, 0.5       ,\n",
       "        0.5       , 0.5       , 0.5       , 0.58333333, 0.58333333,\n",
       "        0.5       , 0.5       , 0.5       , 0.5       , 0.58333333,\n",
       "        0.58333333]),\n",
       " 'split4_test_score': array([0.58333333, 0.66666667, 0.66666667, 0.66666667, 0.66666667,\n",
       "        0.66666667, 0.41666667, 0.58333333, 0.66666667, 0.66666667,\n",
       "        0.66666667, 0.66666667, 0.41666667, 0.58333333, 0.66666667,\n",
       "        0.66666667, 0.66666667, 0.66666667, 0.66666667, 0.66666667,\n",
       "        0.66666667, 0.66666667, 0.66666667, 0.66666667, 0.5       ,\n",
       "        0.5       , 0.5       , 0.5       , 0.5       , 0.5       ,\n",
       "        0.5       , 0.5       , 0.5       , 0.5       , 0.5       ,\n",
       "        0.5       ]),\n",
       " 'split5_test_score': array([0.58333333, 0.58333333, 0.58333333, 0.58333333, 0.58333333,\n",
       "        0.66666667, 0.41666667, 0.41666667, 0.58333333, 0.58333333,\n",
       "        0.66666667, 0.66666667, 0.41666667, 0.41666667, 0.58333333,\n",
       "        0.58333333, 0.66666667, 0.66666667, 0.75      , 0.83333333,\n",
       "        0.83333333, 0.83333333, 0.83333333, 0.83333333, 0.5       ,\n",
       "        0.58333333, 0.58333333, 0.58333333, 0.58333333, 0.58333333,\n",
       "        0.41666667, 0.5       , 0.5       , 0.5       , 0.58333333,\n",
       "        0.58333333]),\n",
       " 'split6_test_score': array([0.75      , 0.75      , 0.75      , 0.75      , 0.75      ,\n",
       "        0.75      , 0.5       , 0.58333333, 0.58333333, 0.66666667,\n",
       "        0.66666667, 0.66666667, 0.33333333, 0.58333333, 0.58333333,\n",
       "        0.66666667, 0.66666667, 0.66666667, 0.75      , 0.75      ,\n",
       "        0.75      , 0.75      , 0.75      , 0.75      , 0.5       ,\n",
       "        0.41666667, 0.41666667, 0.5       , 0.5       , 0.58333333,\n",
       "        0.41666667, 0.41666667, 0.41666667, 0.5       , 0.5       ,\n",
       "        0.58333333]),\n",
       " 'split7_test_score': array([0.83333333, 0.83333333, 0.83333333, 0.83333333, 0.83333333,\n",
       "        0.83333333, 0.66666667, 0.75      , 0.75      , 0.75      ,\n",
       "        0.83333333, 0.83333333, 0.66666667, 0.75      , 0.75      ,\n",
       "        0.75      , 0.83333333, 0.83333333, 0.75      , 0.83333333,\n",
       "        0.83333333, 0.83333333, 0.83333333, 0.83333333, 0.5       ,\n",
       "        0.41666667, 0.41666667, 0.41666667, 0.41666667, 0.41666667,\n",
       "        0.5       , 0.66666667, 0.58333333, 0.5       , 0.5       ,\n",
       "        0.41666667]),\n",
       " 'split8_test_score': array([0.66666667, 0.66666667, 0.75      , 0.66666667, 0.75      ,\n",
       "        0.75      , 0.58333333, 0.75      , 0.66666667, 0.66666667,\n",
       "        0.75      , 0.75      , 0.66666667, 0.75      , 0.66666667,\n",
       "        0.66666667, 0.75      , 0.75      , 0.58333333, 0.66666667,\n",
       "        0.75      , 0.75      , 0.75      , 0.75      , 0.58333333,\n",
       "        0.66666667, 0.66666667, 0.66666667, 0.75      , 0.75      ,\n",
       "        0.58333333, 0.66666667, 0.66666667, 0.66666667, 0.75      ,\n",
       "        0.75      ]),\n",
       " 'split9_test_score': array([0.66666667, 0.66666667, 0.66666667, 0.58333333, 0.58333333,\n",
       "        0.66666667, 0.58333333, 0.5       , 0.66666667, 0.58333333,\n",
       "        0.58333333, 0.66666667, 0.58333333, 0.5       , 0.66666667,\n",
       "        0.58333333, 0.58333333, 0.66666667, 0.75      , 0.75      ,\n",
       "        0.66666667, 0.58333333, 0.58333333, 0.58333333, 0.41666667,\n",
       "        0.5       , 0.5       , 0.5       , 0.5       , 0.5       ,\n",
       "        0.41666667, 0.5       , 0.5       , 0.5       , 0.5       ,\n",
       "        0.5       ]),\n",
       " 'split10_test_score': array([0.83333333, 0.83333333, 0.83333333, 0.75      , 0.75      ,\n",
       "        0.75      , 0.58333333, 0.58333333, 0.5       , 0.5       ,\n",
       "        0.58333333, 0.58333333, 0.5       , 0.5       , 0.41666667,\n",
       "        0.5       , 0.58333333, 0.58333333, 0.66666667, 0.66666667,\n",
       "        0.66666667, 0.75      , 0.75      , 0.75      , 0.75      ,\n",
       "        0.66666667, 0.5       , 0.75      , 0.75      , 0.75      ,\n",
       "        0.75      , 0.66666667, 0.5       , 0.75      , 0.75      ,\n",
       "        0.75      ]),\n",
       " 'split11_test_score': array([0.58333333, 0.58333333, 0.58333333, 0.58333333, 0.58333333,\n",
       "        0.66666667, 0.75      , 0.75      , 0.75      , 0.75      ,\n",
       "        0.75      , 0.75      , 0.75      , 0.66666667, 0.66666667,\n",
       "        0.75      , 0.75      , 0.75      , 0.5       , 0.5       ,\n",
       "        0.5       , 0.5       , 0.58333333, 0.58333333, 0.58333333,\n",
       "        0.75      , 0.58333333, 0.5       , 0.58333333, 0.58333333,\n",
       "        0.66666667, 0.66666667, 0.58333333, 0.5       , 0.58333333,\n",
       "        0.58333333]),\n",
       " 'split12_test_score': array([0.83333333, 0.83333333, 0.83333333, 0.83333333, 0.83333333,\n",
       "        0.83333333, 0.66666667, 0.58333333, 0.75      , 0.75      ,\n",
       "        0.75      , 0.83333333, 0.66666667, 0.58333333, 0.75      ,\n",
       "        0.75      , 0.75      , 0.83333333, 0.58333333, 0.66666667,\n",
       "        0.58333333, 0.58333333, 0.58333333, 0.58333333, 0.5       ,\n",
       "        0.41666667, 0.41666667, 0.5       , 0.5       , 0.58333333,\n",
       "        0.58333333, 0.5       , 0.41666667, 0.5       , 0.5       ,\n",
       "        0.58333333]),\n",
       " 'split13_test_score': array([0.66666667, 0.66666667, 0.66666667, 0.66666667, 0.83333333,\n",
       "        0.83333333, 0.66666667, 0.66666667, 0.66666667, 0.66666667,\n",
       "        0.83333333, 0.83333333, 0.66666667, 0.66666667, 0.66666667,\n",
       "        0.66666667, 0.83333333, 0.83333333, 0.66666667, 0.66666667,\n",
       "        0.66666667, 0.66666667, 0.83333333, 0.83333333, 0.66666667,\n",
       "        0.66666667, 0.66666667, 0.66666667, 0.83333333, 0.83333333,\n",
       "        0.75      , 0.66666667, 0.66666667, 0.66666667, 0.83333333,\n",
       "        0.83333333]),\n",
       " 'split14_test_score': array([0.5       , 0.5       , 0.5       , 0.5       , 0.5       ,\n",
       "        0.5       , 0.33333333, 0.41666667, 0.33333333, 0.5       ,\n",
       "        0.5       , 0.5       , 0.33333333, 0.41666667, 0.33333333,\n",
       "        0.5       , 0.5       , 0.5       , 0.41666667, 0.41666667,\n",
       "        0.5       , 0.5       , 0.5       , 0.5       , 0.41666667,\n",
       "        0.33333333, 0.5       , 0.5       , 0.5       , 0.5       ,\n",
       "        0.41666667, 0.5       , 0.5       , 0.5       , 0.5       ,\n",
       "        0.5       ]),\n",
       " 'split15_test_score': array([0.58333333, 0.58333333, 0.58333333, 0.58333333, 0.58333333,\n",
       "        0.58333333, 0.41666667, 0.41666667, 0.41666667, 0.5       ,\n",
       "        0.58333333, 0.58333333, 0.41666667, 0.41666667, 0.41666667,\n",
       "        0.5       , 0.58333333, 0.58333333, 0.58333333, 0.58333333,\n",
       "        0.58333333, 0.58333333, 0.58333333, 0.58333333, 0.58333333,\n",
       "        0.58333333, 0.5       , 0.58333333, 0.58333333, 0.58333333,\n",
       "        0.58333333, 0.58333333, 0.5       , 0.58333333, 0.58333333,\n",
       "        0.58333333]),\n",
       " 'split16_test_score': array([0.75      , 0.75      , 0.75      , 0.75      , 0.75      ,\n",
       "        0.75      , 0.58333333, 0.75      , 0.58333333, 0.58333333,\n",
       "        0.75      , 0.75      , 0.58333333, 0.75      , 0.5       ,\n",
       "        0.58333333, 0.75      , 0.75      , 0.83333333, 0.83333333,\n",
       "        0.75      , 0.75      , 0.75      , 0.75      , 0.75      ,\n",
       "        0.66666667, 0.58333333, 0.75      , 0.66666667, 0.75      ,\n",
       "        0.5       , 0.58333333, 0.58333333, 0.75      , 0.66666667,\n",
       "        0.75      ]),\n",
       " 'split17_test_score': array([0.33333333, 0.41666667, 0.33333333, 0.33333333, 0.33333333,\n",
       "        0.33333333, 0.75      , 0.83333333, 0.5       , 0.41666667,\n",
       "        0.33333333, 0.25      , 0.66666667, 0.75      , 0.5       ,\n",
       "        0.41666667, 0.33333333, 0.25      , 0.58333333, 0.66666667,\n",
       "        0.66666667, 0.66666667, 0.66666667, 0.75      , 0.58333333,\n",
       "        0.75      , 0.83333333, 0.75      , 0.75      , 0.83333333,\n",
       "        0.58333333, 0.83333333, 0.83333333, 0.75      , 0.75      ,\n",
       "        0.83333333]),\n",
       " 'split18_test_score': array([0.58333333, 0.5       , 0.5       , 0.5       , 0.5       ,\n",
       "        0.5       , 0.75      , 0.66666667, 0.66666667, 0.58333333,\n",
       "        0.58333333, 0.58333333, 0.75      , 0.75      , 0.75      ,\n",
       "        0.66666667, 0.58333333, 0.58333333, 0.5       , 0.5       ,\n",
       "        0.5       , 0.5       , 0.5       , 0.5       , 0.5       ,\n",
       "        0.58333333, 0.66666667, 0.66666667, 0.66666667, 0.5       ,\n",
       "        0.58333333, 0.58333333, 0.66666667, 0.66666667, 0.66666667,\n",
       "        0.5       ]),\n",
       " 'split19_test_score': array([0.58333333, 0.58333333, 0.58333333, 0.58333333, 0.58333333,\n",
       "        0.58333333, 0.66666667, 0.75      , 0.5       , 0.41666667,\n",
       "        0.58333333, 0.58333333, 0.66666667, 0.75      , 0.5       ,\n",
       "        0.41666667, 0.58333333, 0.58333333, 0.58333333, 0.66666667,\n",
       "        0.58333333, 0.58333333, 0.58333333, 0.58333333, 0.66666667,\n",
       "        0.66666667, 0.58333333, 0.58333333, 0.58333333, 0.58333333,\n",
       "        0.58333333, 0.66666667, 0.58333333, 0.58333333, 0.58333333,\n",
       "        0.58333333]),\n",
       " 'split20_test_score': array([0.58333333, 0.58333333, 0.58333333, 0.58333333, 0.58333333,\n",
       "        0.66666667, 0.58333333, 0.58333333, 0.58333333, 0.58333333,\n",
       "        0.58333333, 0.66666667, 0.58333333, 0.58333333, 0.58333333,\n",
       "        0.58333333, 0.58333333, 0.66666667, 0.66666667, 0.66666667,\n",
       "        0.66666667, 0.66666667, 0.66666667, 0.66666667, 0.58333333,\n",
       "        0.5       , 0.58333333, 0.58333333, 0.66666667, 0.66666667,\n",
       "        0.66666667, 0.5       , 0.58333333, 0.5       , 0.66666667,\n",
       "        0.66666667]),\n",
       " 'split21_test_score': array([0.75      , 0.83333333, 0.75      , 0.75      , 0.83333333,\n",
       "        0.83333333, 0.75      , 0.83333333, 0.75      , 0.75      ,\n",
       "        0.83333333, 0.83333333, 0.75      , 0.75      , 0.75      ,\n",
       "        0.75      , 0.83333333, 0.83333333, 0.75      , 0.83333333,\n",
       "        0.75      , 0.75      , 0.83333333, 0.83333333, 0.66666667,\n",
       "        0.58333333, 0.58333333, 0.66666667, 0.75      , 0.83333333,\n",
       "        0.66666667, 0.58333333, 0.58333333, 0.66666667, 0.75      ,\n",
       "        0.83333333]),\n",
       " 'split22_test_score': array([0.66666667, 0.66666667, 0.66666667, 0.66666667, 0.75      ,\n",
       "        0.75      , 0.5       , 0.41666667, 0.58333333, 0.58333333,\n",
       "        0.75      , 0.75      , 0.58333333, 0.5       , 0.66666667,\n",
       "        0.66666667, 0.83333333, 0.83333333, 0.58333333, 0.58333333,\n",
       "        0.58333333, 0.58333333, 0.66666667, 0.66666667, 0.58333333,\n",
       "        0.66666667, 0.5       , 0.5       , 0.75      , 0.66666667,\n",
       "        0.5       , 0.58333333, 0.41666667, 0.5       , 0.75      ,\n",
       "        0.66666667]),\n",
       " 'split23_test_score': array([0.5       , 0.41666667, 0.41666667, 0.5       , 0.5       ,\n",
       "        0.5       , 0.58333333, 0.41666667, 0.41666667, 0.41666667,\n",
       "        0.5       , 0.5       , 0.5       , 0.41666667, 0.41666667,\n",
       "        0.41666667, 0.5       , 0.5       , 0.5       , 0.5       ,\n",
       "        0.5       , 0.5       , 0.58333333, 0.58333333, 0.41666667,\n",
       "        0.33333333, 0.41666667, 0.33333333, 0.41666667, 0.41666667,\n",
       "        0.41666667, 0.33333333, 0.41666667, 0.33333333, 0.41666667,\n",
       "        0.41666667]),\n",
       " 'split24_test_score': array([0.75      , 0.75      , 0.75      , 0.75      , 0.75      ,\n",
       "        0.75      , 0.66666667, 0.66666667, 0.75      , 0.75      ,\n",
       "        0.75      , 0.75      , 0.66666667, 0.66666667, 0.75      ,\n",
       "        0.75      , 0.75      , 0.75      , 0.75      , 0.75      ,\n",
       "        0.75      , 0.75      , 0.75      , 0.66666667, 0.5       ,\n",
       "        0.5       , 0.5       , 0.41666667, 0.66666667, 0.58333333,\n",
       "        0.33333333, 0.5       , 0.5       , 0.41666667, 0.66666667,\n",
       "        0.58333333]),\n",
       " 'mean_test_score': array([0.65      , 0.65333333, 0.65      , 0.65      , 0.66666667,\n",
       "        0.68      , 0.62      , 0.62666667, 0.62      , 0.62      ,\n",
       "        0.67      , 0.67666667, 0.60666667, 0.62      , 0.61333333,\n",
       "        0.62333333, 0.67333333, 0.68      , 0.62666667, 0.65      ,\n",
       "        0.64333333, 0.64333333, 0.67      , 0.67      , 0.55333333,\n",
       "        0.55666667, 0.55      , 0.56666667, 0.61666667, 0.62      ,\n",
       "        0.54333333, 0.57      , 0.55      , 0.56666667, 0.62      ,\n",
       "        0.61666667]),\n",
       " 'std_test_score': array([0.11785113, 0.12174655, 0.12692955, 0.12692955, 0.13123346,\n",
       "        0.12622731, 0.13556466, 0.14165686, 0.12710451, 0.1203698 ,\n",
       "        0.12578642, 0.13605554, 0.14437605, 0.13140269, 0.1330831 ,\n",
       "        0.12274635, 0.1289272 , 0.13880442, 0.10572501, 0.11785113,\n",
       "        0.10143416, 0.10413666, 0.10132456, 0.10132456, 0.09092121,\n",
       "        0.11718931, 0.10274023, 0.10540926, 0.11055416, 0.11803954,\n",
       "        0.10832051, 0.10187138, 0.10274023, 0.10540926, 0.10561986,\n",
       "        0.11785113]),\n",
       " 'rank_test_score': array([10,  9, 10, 10,  8,  1, 20, 16, 20, 20,  5,  3, 28, 24, 27, 18,  4,\n",
       "         1, 16, 10, 14, 14,  5,  5, 33, 32, 34, 30, 26, 19, 36, 29, 34, 30,\n",
       "        20, 25], dtype=int32)}"
      ]
     },
     "execution_count": 50,
     "metadata": {},
     "output_type": "execute_result"
    }
   ],
   "source": [
    "a.cv_results_\n"
   ]
  },
  {
   "cell_type": "markdown",
   "metadata": {},
   "source": [
    "**Answer: **"
   ]
  },
  {
   "cell_type": "markdown",
   "metadata": {},
   "source": [
    "### Question 4 - Model in Layman's Terms\n",
    "*In one to two paragraphs, explain to the board of directors in layman's terms how the final model chosen is supposed to work. Be sure that you are describing the major qualities of the model, such as how the model is trained and how the model makes a prediction. Avoid using advanced mathematical or technical jargon, such as describing equations or discussing the algorithm implementation.*"
   ]
  },
  {
   "cell_type": "markdown",
   "metadata": {},
   "source": [
    "**Answer: **"
   ]
  },
  {
   "cell_type": "markdown",
   "metadata": {},
   "source": [
    "### Implementation: Model Tuning\n",
    "Fine tune the chosen model. Use grid search (`GridSearchCV`) with at least one important parameter tuned with at least 3 different values. You will need to use the entire training set for this. In the code cell below, you will need to implement the following:\n",
    "- Import [`sklearn.grid_search.GridSearchCV`](http://scikit-learn.org/0.17/modules/generated/sklearn.grid_search.GridSearchCV.html) and [`sklearn.metrics.make_scorer`](http://scikit-learn.org/stable/modules/generated/sklearn.metrics.make_scorer.html).\n",
    "- Create a dictionary of parameters you wish to tune for the chosen model.\n",
    " - Example: `parameters = {'parameter' : [list of values]}`.\n",
    "- Initialize the classifier you've chosen and store it in `clf`.\n",
    "- Create the F<sub>1</sub> scoring function using `make_scorer` and store it in `f1_scorer`.\n",
    " - Set the `pos_label` parameter to the correct value!\n",
    "- Perform grid search on the classifier `clf` using `f1_scorer` as the scoring method, and store it in `grid_obj`.\n",
    "- Fit the grid search object to the training data (`X_train`, `y_train`), and store it in `grid_obj`."
   ]
  },
  {
   "cell_type": "code",
   "execution_count": null,
   "metadata": {},
   "outputs": [],
   "source": [
    "# TODO: Import 'GridSearchCV' and 'make_scorer'\n",
    "\n",
    "# TODO: Create the parameters list you wish to tune\n",
    "parameters = None\n",
    "\n",
    "# TODO: Initialize the classifier\n",
    "clf = None\n",
    "\n",
    "# TODO: Make an f1 scoring function using 'make_scorer' \n",
    "f1_scorer = None\n",
    "\n",
    "# TODO: Perform grid search on the classifier using the f1_scorer as the scoring method\n",
    "grid_obj = None\n",
    "\n",
    "# TODO: Fit the grid search object to the training data and find the optimal parameters\n",
    "grid_obj = None\n",
    "\n",
    "# Get the estimator\n",
    "clf = grid_obj.best_estimator_\n",
    "\n",
    "# Report the final F1 score for training and testing after parameter tuning\n",
    "print \"Tuned model has a training F1 score of {:.4f}.\".format(predict_labels(clf, X_train, y_train))\n",
    "print \"Tuned model has a testing F1 score of {:.4f}.\".format(predict_labels(clf, X_test, y_test))"
   ]
  },
  {
   "cell_type": "markdown",
   "metadata": {},
   "source": [
    "### Question 5 - Final F<sub>1</sub> Score\n",
    "*What is the final model's F<sub>1</sub> score for training and testing? How does that score compare to the untuned model?*"
   ]
  },
  {
   "cell_type": "markdown",
   "metadata": {},
   "source": [
    "**Answer: **"
   ]
  },
  {
   "cell_type": "markdown",
   "metadata": {},
   "source": [
    "> **Note**: Once you have completed all of the code implementations and successfully answered each question above, you may finalize your work by exporting the iPython Notebook as an HTML document. You can do this by using the menu above and navigating to  \n",
    "**File -> Download as -> HTML (.html)**. Include the finished document along with this notebook as your submission."
   ]
  }
 ],
 "metadata": {
  "kernelspec": {
   "display_name": "geam",
   "language": "python",
   "name": "geam"
  },
  "language_info": {
   "codemirror_mode": {
    "name": "ipython",
    "version": 3
   },
   "file_extension": ".py",
   "mimetype": "text/x-python",
   "name": "python",
   "nbconvert_exporter": "python",
   "pygments_lexer": "ipython3",
   "version": "3.6.9"
  }
 },
 "nbformat": 4,
 "nbformat_minor": 2
}
